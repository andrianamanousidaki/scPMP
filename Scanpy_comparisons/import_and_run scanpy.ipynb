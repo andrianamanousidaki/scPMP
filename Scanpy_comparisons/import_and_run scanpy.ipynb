{
 "cells": [
  {
   "cell_type": "markdown",
   "metadata": {},
   "source": [
    "# Read data"
   ]
  },
  {
   "cell_type": "code",
   "execution_count": 1,
   "metadata": {},
   "outputs": [],
   "source": [
    "import os\n",
    "import numpy as np\n",
    "import pandas as pd\n",
    "import scanpy as sc\n",
    "import timeit\n",
    "\n",
    "from sklearn.metrics import adjusted_rand_score\n",
    "from matplotlib import pyplot as plt\n",
    "%matplotlib inline"
   ]
  },
  {
   "cell_type": "markdown",
   "metadata": {},
   "source": [
    "## Import  data"
   ]
  },
  {
   "cell_type": "code",
   "execution_count": 2,
   "metadata": {},
   "outputs": [
    {
     "data": {
      "text/plain": [
       "'C:\\\\Users\\\\Andriana\\\\Dropbox\\\\scRNAseq\\\\scPMP_final_repo\\\\Scanpy_comparisons'"
      ]
     },
     "execution_count": 2,
     "metadata": {},
     "output_type": "execute_result"
    }
   ],
   "source": [
    "os. getcwd()"
   ]
  },
  {
   "cell_type": "code",
   "execution_count": 3,
   "metadata": {},
   "outputs": [],
   "source": [
    "%run Run_scanpy.ipynb"
   ]
  },
  {
   "cell_type": "code",
   "execution_count": 4,
   "metadata": {},
   "outputs": [],
   "source": [
    "os.chdir('..')"
   ]
  },
  {
   "cell_type": "markdown",
   "metadata": {},
   "source": [
    "# Choose Data set and Upload data"
   ]
  },
  {
   "cell_type": "code",
   "execution_count": 5,
   "metadata": {},
   "outputs": [],
   "source": [
    "### Real  data sets ############################################################################################################\n",
    "# Choose desired data set and uncomment its lines then run all cells\n",
    "\n",
    "## RNAMix1Basic\n",
    "#mydata='RNAMix1Basic_noDR'\n",
    "\n",
    "##RNAMix2Basic\n",
    "# mydata='RNAMix2Basic_noDR'\n",
    "\n",
    "## TMLungBasic\n",
    "#mydata='TMLungBasic_noDR'\n",
    "\n",
    "## Beta2Basic \n",
    "mydata='Beta2Basic_noDR'\n",
    "\n",
    "## TMPancBasic\n",
    "#mydata='TMPancBasic_noDR'\n",
    "\n",
    "## BaronPancSCT\n",
    "#mydata='BaronPancSCT_noDR'\n",
    "\n",
    "## PBMC4k BASIC\n",
    "#mydata='PBMC4kBASIC_noDR'\n",
    "\n",
    "## CellMixSngSCT\n",
    "#mydata='CellMixSngSCT_noDR'\n"
   ]
  },
  {
   "cell_type": "code",
   "execution_count": 6,
   "metadata": {
    "scrolled": true
   },
   "outputs": [],
   "source": [
    "adata= sc.read('Data_after_Imputation\\\\'+mydata+'.h5ad')"
   ]
  },
  {
   "cell_type": "code",
   "execution_count": 7,
   "metadata": {},
   "outputs": [
    {
     "name": "stdout",
     "output_type": "stream",
     "text": [
      "Beta2Basic_noDR\n"
     ]
    }
   ],
   "source": [
    "np.random.seed(20)\n",
    "\n",
    "\n",
    "##RNAMIX1\n",
    "if mydata == 'RNAMix1Basic_noDR':\n",
    "    scanpy_output = Run_scanpy(adata=adata,res=1.3,normalization=True, do_PCA=True,n_pcs=40,human=True)\n",
    "    adata = scanpy_output[2]\n",
    "\n",
    "\n",
    "##RNAMIX2\n",
    "if mydata == 'RNAMix2Basic_noDR':\n",
    "    scanpy_output = Run_scanpy(adata=adata,res=1,normalization=True, do_PCA=True,n_pcs=40,human=True)\n",
    "    adata = scanpy_output[2]\n",
    "    \n",
    "##TMlUNG\n",
    "if mydata == 'TMLungBasic_noDR':\n",
    "    scanpy_output = Run_scanpy(adata=adata,res=0.42,normalization=True, do_PCA=True,n_pcs=40,human=False)\n",
    "    adata = scanpy_output[2]\n",
    "\n",
    "##Beta\n",
    "if mydata == 'Beta2Basic_noDR':\n",
    "    scanpy_output = Run_scanpy(adata=adata,res=0.2,normalization=True, do_PCA=True,n_pcs=40,human=True)\n",
    "    adata = scanpy_output[2]\n",
    "\n",
    "##TMPancBasic\n",
    "if mydata == 'TMPancBasic_noDR':\n",
    "    scanpy_output = Run_scanpy(adata=adata,res=0.15,normalization=True, do_PCA=True,n_pcs=40,human=False)\n",
    "    adata = scanpy_output[2]\n",
    "\n",
    "##BaronsPancreaticSCT\n",
    "if mydata == 'BaronPancSCT_noDR':\n",
    "    scanpy_output = Run_scanpy(adata=adata,res=0.1,normalization=False, do_PCA=True,n_pcs=40,human=True)\n",
    "    adata = scanpy_output[2]\n",
    "\n",
    "##pbmc4k\n",
    "print(mydata)\n",
    "if mydata == 'PBMC4kBASIC_noDR':\n",
    "    scanpy_output = Run_scanpy(adata=adata,res=0.02,normalization=True, do_PCA=True,n_pcs=40,human=True)\n",
    "    adata = scanpy_output[2]\n",
    "\n",
    "##cellmix\n",
    "if mydata=='CellMixSngSCT_noDR':\n",
    "    scanpy_output = Run_scanpy(adata=adata,res=0.06,normalization=False, do_PCA=True,n_pcs=40,human=True)\n",
    "    adata = scanpy_output[2]\n"
   ]
  },
  {
   "cell_type": "code",
   "execution_count": 8,
   "metadata": {
    "scrolled": false
   },
   "outputs": [],
   "source": [
    "comp_rt = scanpy_output[0]/60\n",
    "clust_rt = scanpy_output[1]/60"
   ]
  },
  {
   "cell_type": "code",
   "execution_count": 9,
   "metadata": {},
   "outputs": [],
   "source": [
    "# runtime = {'Name':[mydata],\n",
    "#         'Complete_rt':[comp_rt],\n",
    "#         'Clustering_rt':[clust_rt]\n",
    "#        }\n",
    "# runtime = pd.DataFrame(runtime)\n",
    "# runtime\n",
    "# runtime.to_csv(\"Results\\\\SCANPY_all_runtime.csv\")"
   ]
  },
  {
   "cell_type": "code",
   "execution_count": 10,
   "metadata": {
    "scrolled": true
   },
   "outputs": [
    {
     "data": {
      "text/html": [
       "<div>\n",
       "<style scoped>\n",
       "    .dataframe tbody tr th:only-of-type {\n",
       "        vertical-align: middle;\n",
       "    }\n",
       "\n",
       "    .dataframe tbody tr th {\n",
       "        vertical-align: top;\n",
       "    }\n",
       "\n",
       "    .dataframe thead th {\n",
       "        text-align: right;\n",
       "    }\n",
       "</style>\n",
       "<table border=\"1\" class=\"dataframe\">\n",
       "  <thead>\n",
       "    <tr style=\"text-align: right;\">\n",
       "      <th></th>\n",
       "      <th>Name</th>\n",
       "      <th>Complete_rt</th>\n",
       "      <th>Clustering_rt</th>\n",
       "    </tr>\n",
       "  </thead>\n",
       "  <tbody>\n",
       "    <tr>\n",
       "      <th>0</th>\n",
       "      <td>RNAMix1Basic_noDR</td>\n",
       "      <td>0.600307</td>\n",
       "      <td>0.036547</td>\n",
       "    </tr>\n",
       "    <tr>\n",
       "      <th>1</th>\n",
       "      <td>RNAMix2Basic_noDR</td>\n",
       "      <td>0.564592</td>\n",
       "      <td>0.065548</td>\n",
       "    </tr>\n",
       "    <tr>\n",
       "      <th>2</th>\n",
       "      <td>TMLungBasic_noDR</td>\n",
       "      <td>0.931848</td>\n",
       "      <td>0.071888</td>\n",
       "    </tr>\n",
       "    <tr>\n",
       "      <th>3</th>\n",
       "      <td>Beta2Basic_noDR</td>\n",
       "      <td>0.165410</td>\n",
       "      <td>0.071658</td>\n",
       "    </tr>\n",
       "    <tr>\n",
       "      <th>4</th>\n",
       "      <td>TMPancBasic_noDR</td>\n",
       "      <td>0.996637</td>\n",
       "      <td>0.155183</td>\n",
       "    </tr>\n",
       "    <tr>\n",
       "      <th>5</th>\n",
       "      <td>BaronPancSCT_noDR</td>\n",
       "      <td>0.233317</td>\n",
       "      <td>0.185763</td>\n",
       "    </tr>\n",
       "    <tr>\n",
       "      <th>6</th>\n",
       "      <td>PBMC4kBASIC_noDR</td>\n",
       "      <td>1.017122</td>\n",
       "      <td>0.402423</td>\n",
       "    </tr>\n",
       "    <tr>\n",
       "      <th>7</th>\n",
       "      <td>CellMixSngSCT_noDR</td>\n",
       "      <td>0.366045</td>\n",
       "      <td>0.342542</td>\n",
       "    </tr>\n",
       "  </tbody>\n",
       "</table>\n",
       "</div>"
      ],
      "text/plain": [
       "                 Name  Complete_rt  Clustering_rt\n",
       "0   RNAMix1Basic_noDR     0.600307       0.036547\n",
       "1   RNAMix2Basic_noDR     0.564592       0.065548\n",
       "2    TMLungBasic_noDR     0.931848       0.071888\n",
       "3     Beta2Basic_noDR     0.165410       0.071658\n",
       "4    TMPancBasic_noDR     0.996637       0.155183\n",
       "5   BaronPancSCT_noDR     0.233317       0.185763\n",
       "6    PBMC4kBASIC_noDR     1.017122       0.402423\n",
       "7  CellMixSngSCT_noDR     0.366045       0.342542"
      ]
     },
     "execution_count": 10,
     "metadata": {},
     "output_type": "execute_result"
    }
   ],
   "source": [
    "runtime = pd.read_csv (\"Results\\\\SCANPY_all_runtime.csv\",index_col=0)\n",
    "runtime"
   ]
  },
  {
   "cell_type": "code",
   "execution_count": 11,
   "metadata": {},
   "outputs": [],
   "source": [
    "runtime.loc[len(runtime.index)]=[mydata,comp_rt,clust_rt]"
   ]
  },
  {
   "cell_type": "code",
   "execution_count": 22,
   "metadata": {
    "scrolled": true
   },
   "outputs": [
    {
     "data": {
      "text/html": [
       "<div>\n",
       "<style scoped>\n",
       "    .dataframe tbody tr th:only-of-type {\n",
       "        vertical-align: middle;\n",
       "    }\n",
       "\n",
       "    .dataframe tbody tr th {\n",
       "        vertical-align: top;\n",
       "    }\n",
       "\n",
       "    .dataframe thead th {\n",
       "        text-align: right;\n",
       "    }\n",
       "</style>\n",
       "<table border=\"1\" class=\"dataframe\">\n",
       "  <thead>\n",
       "    <tr style=\"text-align: right;\">\n",
       "      <th></th>\n",
       "      <th>Name</th>\n",
       "      <th>Complete_rt</th>\n",
       "      <th>Clustering_rt</th>\n",
       "    </tr>\n",
       "  </thead>\n",
       "  <tbody>\n",
       "    <tr>\n",
       "      <th>0</th>\n",
       "      <td>RNAMix1Basic_noDR</td>\n",
       "      <td>0.600307</td>\n",
       "      <td>0.036547</td>\n",
       "    </tr>\n",
       "    <tr>\n",
       "      <th>1</th>\n",
       "      <td>RNAMix2Basic_noDR</td>\n",
       "      <td>0.564592</td>\n",
       "      <td>0.065548</td>\n",
       "    </tr>\n",
       "    <tr>\n",
       "      <th>2</th>\n",
       "      <td>TMLungBasic_noDR</td>\n",
       "      <td>0.931848</td>\n",
       "      <td>0.071888</td>\n",
       "    </tr>\n",
       "    <tr>\n",
       "      <th>3</th>\n",
       "      <td>Beta2Basic_noDR</td>\n",
       "      <td>0.803152</td>\n",
       "      <td>0.751424</td>\n",
       "    </tr>\n",
       "    <tr>\n",
       "      <th>4</th>\n",
       "      <td>TMPancBasic_noDR</td>\n",
       "      <td>0.996637</td>\n",
       "      <td>0.155183</td>\n",
       "    </tr>\n",
       "    <tr>\n",
       "      <th>5</th>\n",
       "      <td>BaronPancSCT_noDR</td>\n",
       "      <td>0.233317</td>\n",
       "      <td>0.185763</td>\n",
       "    </tr>\n",
       "    <tr>\n",
       "      <th>6</th>\n",
       "      <td>PBMC4kBASIC_noDR</td>\n",
       "      <td>1.017122</td>\n",
       "      <td>0.402423</td>\n",
       "    </tr>\n",
       "    <tr>\n",
       "      <th>7</th>\n",
       "      <td>CellMixSngSCT_noDR</td>\n",
       "      <td>0.366045</td>\n",
       "      <td>0.342542</td>\n",
       "    </tr>\n",
       "  </tbody>\n",
       "</table>\n",
       "</div>"
      ],
      "text/plain": [
       "                 Name  Complete_rt  Clustering_rt\n",
       "0   RNAMix1Basic_noDR     0.600307       0.036547\n",
       "1   RNAMix2Basic_noDR     0.564592       0.065548\n",
       "2    TMLungBasic_noDR     0.931848       0.071888\n",
       "3     Beta2Basic_noDR     0.803152       0.751424\n",
       "4    TMPancBasic_noDR     0.996637       0.155183\n",
       "5   BaronPancSCT_noDR     0.233317       0.185763\n",
       "6    PBMC4kBASIC_noDR     1.017122       0.402423\n",
       "7  CellMixSngSCT_noDR     0.366045       0.342542"
      ]
     },
     "execution_count": 22,
     "metadata": {},
     "output_type": "execute_result"
    }
   ],
   "source": [
    "runtime"
   ]
  },
  {
   "cell_type": "code",
   "execution_count": 23,
   "metadata": {},
   "outputs": [],
   "source": [
    "runtime.to_csv(\"Results\\\\SCANPY_all_runtime.csv\")"
   ]
  },
  {
   "cell_type": "code",
   "execution_count": 13,
   "metadata": {},
   "outputs": [],
   "source": [
    "predictions=adata.obs['leiden']\n",
    "true_labels=adata.obs[['Labels']]\n",
    "len(np.unique(true_labels)) ==len(np.unique(predictions))\n",
    "df = pd.DataFrame(predictions)\n",
    "df.columns=[mydata]"
   ]
  },
  {
   "cell_type": "code",
   "execution_count": 14,
   "metadata": {
    "scrolled": false
   },
   "outputs": [
    {
     "data": {
      "text/plain": [
       "'SCANPY_Beta2Basic_noDR_40PCs_for_nn_RESULTS.csv'"
      ]
     },
     "execution_count": 14,
     "metadata": {},
     "output_type": "execute_result"
    }
   ],
   "source": [
    "\"SCANPY_\"+ mydata+\"_40PCs_for_nn_RESULTS.csv\""
   ]
  },
  {
   "cell_type": "code",
   "execution_count": 15,
   "metadata": {
    "scrolled": true
   },
   "outputs": [],
   "source": [
    "df.to_csv(\"Results\\\\SCANPY_\"+ mydata+\"_40PCs_for_nn_RESULTS.csv\")"
   ]
  },
  {
   "cell_type": "code",
   "execution_count": 16,
   "metadata": {
    "scrolled": false
   },
   "outputs": [
    {
     "name": "stdout",
     "output_type": "stream",
     "text": [
      "The Rand index is 0.9099\n"
     ]
    }
   ],
   "source": [
    "rand_index = adjusted_rand_score(labels_true = adata.obs['Labels'], labels_pred = predictions)\n",
    "print('The Rand index is', round(rand_index, 4))"
   ]
  },
  {
   "cell_type": "code",
   "execution_count": null,
   "metadata": {},
   "outputs": [],
   "source": []
  }
 ],
 "metadata": {
  "kernelspec": {
   "display_name": "Python 3",
   "language": "python",
   "name": "python3"
  },
  "language_info": {
   "codemirror_mode": {
    "name": "ipython",
    "version": 3
   },
   "file_extension": ".py",
   "mimetype": "text/x-python",
   "name": "python",
   "nbconvert_exporter": "python",
   "pygments_lexer": "ipython3",
   "version": "3.8.5"
  }
 },
 "nbformat": 4,
 "nbformat_minor": 4
}
