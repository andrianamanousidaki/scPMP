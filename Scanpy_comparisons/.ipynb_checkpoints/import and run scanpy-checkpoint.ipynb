{
 "cells": [
  {
   "cell_type": "markdown",
   "metadata": {},
   "source": [
    "# Read data"
   ]
  },
  {
   "cell_type": "code",
   "execution_count": 4,
   "metadata": {},
   "outputs": [],
   "source": [
    "import os\n",
    "import numpy as np\n",
    "import pandas as pd\n",
    "import scanpy as sc\n",
    "import timeit\n",
    "\n",
    "from sklearn.metrics import adjusted_rand_score\n",
    "from matplotlib import pyplot as plt\n",
    "%matplotlib inline"
   ]
  },
  {
   "cell_type": "markdown",
   "metadata": {},
   "source": [
    "## Import  data"
   ]
  },
  {
   "cell_type": "code",
   "execution_count": 5,
   "metadata": {
    "scrolled": true
   },
   "outputs": [
    {
     "data": {
      "text/plain": [
       "'C:\\\\Users\\\\Andriana\\\\Dropbox\\\\scRNAseq\\\\RCode_for_github\\\\Scanpy_comparisons'"
      ]
     },
     "execution_count": 5,
     "metadata": {},
     "output_type": "execute_result"
    }
   ],
   "source": [
    "os.getcwd()\n"
   ]
  },
  {
   "cell_type": "code",
   "execution_count": 6,
   "metadata": {
    "scrolled": true
   },
   "outputs": [
    {
     "ename": "ModuleNotFoundError",
     "evalue": "No module named 'Run_scanpy'",
     "output_type": "error",
     "traceback": [
      "\u001b[1;31m---------------------------------------------------------------------------\u001b[0m",
      "\u001b[1;31mModuleNotFoundError\u001b[0m                       Traceback (most recent call last)",
      "\u001b[1;32m<ipython-input-6-35bdbe0c817e>\u001b[0m in \u001b[0;36m<module>\u001b[1;34m\u001b[0m\n\u001b[1;32m----> 1\u001b[1;33m \u001b[1;32mimport\u001b[0m  \u001b[0mRun_scanpy\u001b[0m\u001b[1;33m\u001b[0m\u001b[1;33m\u001b[0m\u001b[0m\n\u001b[0m",
      "\u001b[1;31mModuleNotFoundError\u001b[0m: No module named 'Run_scanpy'"
     ]
    }
   ],
   "source": [
    "import  Run_scanpy"
   ]
  },
  {
   "cell_type": "code",
   "execution_count": 7,
   "metadata": {},
   "outputs": [],
   "source": [
    "%run Run_scanpy.ipynb"
   ]
  },
  {
   "cell_type": "code",
   "execution_count": 8,
   "metadata": {},
   "outputs": [],
   "source": [
    "os.chdir('C:\\\\Users\\\\Andriana\\\\Dropbox\\\\scRNAseq\\\\RCode_for_github')"
   ]
  },
  {
   "cell_type": "markdown",
   "metadata": {},
   "source": [
    "# Choose Data set and Upload data"
   ]
  },
  {
   "cell_type": "code",
   "execution_count": 9,
   "metadata": {},
   "outputs": [],
   "source": [
    "# Simulated datasets\n",
    "\n",
    "### Real and synthetic data sets ############################################################################################################\n",
    "\n",
    "## RNAMix1Basic\n",
    "mydata='RNAMix1Basic_noDR'\n",
    "\n",
    "##RNAMix2Basic\n",
    "#mydata='RNAMix2Basic_noDR'\n",
    "\n",
    "## TMLungBasic\n",
    "#mydata='TMLungBasic_noDR'\n",
    "\n",
    "## Beta2Basic \n",
    "#mydata='Beta2Basic _noDR'\n",
    "\n",
    "## TMPancBasic\n",
    "#mydata='TMPancBasic_noDR'\n",
    "\n",
    "## BaronPancSCT\n",
    "#mydata='BaronPancSCT_noDR'\n",
    "\n",
    "## PBMC4k BASIC\n",
    "#mydata='PBMC4kBASIC_noDR'\n",
    "\n",
    "## CellMixSngSCT\n",
    "#mydata='CellMixSngSCT_noDR'\n"
   ]
  },
  {
   "cell_type": "code",
   "execution_count": 10,
   "metadata": {
    "scrolled": true
   },
   "outputs": [],
   "source": [
    "adata= sc.read('Data_after_Imputation\\\\'+mydata+'.h5ad')"
   ]
  },
  {
   "cell_type": "code",
   "execution_count": 11,
   "metadata": {},
   "outputs": [
    {
     "data": {
      "text/plain": [
       "AnnData object with n_obs × n_vars = 296 × 15571\n",
       "    obs: 'Labels'"
      ]
     },
     "execution_count": 11,
     "metadata": {},
     "output_type": "execute_result"
    }
   ],
   "source": [
    "adata"
   ]
  },
  {
   "cell_type": "code",
   "execution_count": 12,
   "metadata": {
    "scrolled": true
   },
   "outputs": [
    {
     "data": {
      "text/plain": [
       "array([[0.013, 0.014, 0.008, ..., 0.211, 0.022, 0.149],\n",
       "       [0.018, 0.019, 0.035, ..., 0.328, 0.063, 0.212],\n",
       "       [0.016, 0.017, 0.016, ..., 0.278, 0.039, 0.187],\n",
       "       ...,\n",
       "       [0.017, 0.018, 0.02 , ..., 0.297, 0.046, 0.196],\n",
       "       [0.018, 0.019, 0.029, ..., 0.318, 0.057, 0.207],\n",
       "       [0.018, 0.019, 0.028, ..., 0.316, 0.056, 0.206]], dtype=float32)"
      ]
     },
     "execution_count": 12,
     "metadata": {},
     "output_type": "execute_result"
    }
   ],
   "source": [
    "adata.X"
   ]
  },
  {
   "cell_type": "code",
   "execution_count": 13,
   "metadata": {},
   "outputs": [
    {
     "ename": "AttributeError",
     "evalue": "'function' object has no attribute 'Run_scanpy'",
     "output_type": "error",
     "traceback": [
      "\u001b[1;31m---------------------------------------------------------------------------\u001b[0m",
      "\u001b[1;31mAttributeError\u001b[0m                            Traceback (most recent call last)",
      "\u001b[1;32m<ipython-input-13-8417afe0f579>\u001b[0m in \u001b[0;36m<module>\u001b[1;34m\u001b[0m\n\u001b[0;32m      6\u001b[0m \u001b[1;31m##RNAMIX1\u001b[0m\u001b[1;33m\u001b[0m\u001b[1;33m\u001b[0m\u001b[1;33m\u001b[0m\u001b[0m\n\u001b[0;32m      7\u001b[0m \u001b[1;33m\u001b[0m\u001b[0m\n\u001b[1;32m----> 8\u001b[1;33m \u001b[0madata\u001b[0m \u001b[1;33m=\u001b[0m \u001b[0mRun_scanpy\u001b[0m\u001b[1;33m.\u001b[0m\u001b[0mRun_scanpy\u001b[0m\u001b[1;33m(\u001b[0m\u001b[0madata\u001b[0m\u001b[1;33m=\u001b[0m\u001b[0madata\u001b[0m\u001b[1;33m,\u001b[0m\u001b[0mres\u001b[0m\u001b[1;33m=\u001b[0m\u001b[1;36m1.3\u001b[0m\u001b[1;33m,\u001b[0m\u001b[0mnormalization\u001b[0m\u001b[1;33m=\u001b[0m\u001b[1;32mTrue\u001b[0m\u001b[1;33m,\u001b[0m \u001b[0mdo_PCA\u001b[0m\u001b[1;33m=\u001b[0m\u001b[1;32mTrue\u001b[0m\u001b[1;33m,\u001b[0m\u001b[0mn_pcs\u001b[0m\u001b[1;33m=\u001b[0m\u001b[1;36m40\u001b[0m\u001b[1;33m,\u001b[0m\u001b[0mhuman\u001b[0m\u001b[1;33m=\u001b[0m\u001b[1;32mTrue\u001b[0m\u001b[1;33m)\u001b[0m\u001b[1;33m\u001b[0m\u001b[1;33m\u001b[0m\u001b[0m\n\u001b[0m\u001b[0;32m      9\u001b[0m \u001b[1;33m\u001b[0m\u001b[0m\n\u001b[0;32m     10\u001b[0m \u001b[1;33m\u001b[0m\u001b[0m\n",
      "\u001b[1;31mAttributeError\u001b[0m: 'function' object has no attribute 'Run_scanpy'"
     ]
    }
   ],
   "source": [
    "np.random.seed(20)\n",
    "\n",
    "\n",
    "start = timeit.default_timer()\n",
    " \n",
    "##RNAMIX1\n",
    "\n",
    "adata = Run_scanpy.Run_scanpy(adata=adata,res=1.3,normalization=True, do_PCA=True,n_pcs=40,human=True)\n",
    "\n",
    "\n",
    "##RNAMIX2\n",
    "#adata = Run_scanpy.Run_scanpy(adata=adata,res=1,normalization=True, do_PCA=True,n_pcs=40,human=True)\n",
    "\n",
    "##TMlUNG\n",
    "\n",
    "#adata = Run_scanpy.Run_scanpy(adata=adata,res=0.42,normalization=True, do_PCA=True,n_pcs=40,human=False)\n",
    "\n",
    "\n",
    "##Beta\n",
    "\n",
    "#adata = Run_scanpy.Run_scanpy(adata=adata,res=0.2,normalization=True, do_PCA=True,n_pcs=40,human=True)\n",
    "\n",
    "\n",
    "##TMPancBasic\n",
    "\n",
    "#adata = Run_scanpy.Run_scanpy(adata=adata,res=0.15,normalization=True, do_PCA=True,n_pcs=40,human=False)\n",
    "\n",
    "\n",
    "##BaronsPancreaticSCT\n",
    "\n",
    "#adata = Run_scanpy.Run_scanpy(adata=adata,res=0.1,normalization=False, do_PCA=True,n_pcs=40,human=True)\n",
    "\n",
    "\n",
    "##pbmc4k\n",
    "\n",
    "#adata = Run_scanpy.Run_scanpy(adata=adata,res=0.02,normalization=True, do_PCA=True,n_pcs=40,human=True)\n",
    "\n",
    "\n",
    "##cellmix\n",
    "\n",
    "#adata = Run_scanpy.Run_scanpy(adata=adata,res=0.06,normalization=False, do_PCA=True,n_pcs=40,human=True)\n",
    "\n",
    "\n",
    "stop = timeit.default_timer()\n",
    "\n",
    "print('Time: ', stop - start) "
   ]
  },
  {
   "cell_type": "code",
   "execution_count": 11,
   "metadata": {},
   "outputs": [],
   "source": [
    "predictions=adata.obs['leiden']"
   ]
  },
  {
   "cell_type": "code",
   "execution_count": 12,
   "metadata": {},
   "outputs": [],
   "source": [
    "true_labels=adata.obs[['Labels']]"
   ]
  },
  {
   "cell_type": "code",
   "execution_count": 13,
   "metadata": {
    "scrolled": false
   },
   "outputs": [
    {
     "data": {
      "text/plain": [
       "7"
      ]
     },
     "execution_count": 13,
     "metadata": {},
     "output_type": "execute_result"
    }
   ],
   "source": [
    "len(np.unique(adata.obs[['Labels']])) \n"
   ]
  },
  {
   "cell_type": "code",
   "execution_count": 14,
   "metadata": {},
   "outputs": [
    {
     "data": {
      "text/plain": [
       "7"
      ]
     },
     "execution_count": 14,
     "metadata": {},
     "output_type": "execute_result"
    }
   ],
   "source": [
    "len(np.unique(predictions))"
   ]
  },
  {
   "cell_type": "code",
   "execution_count": null,
   "metadata": {},
   "outputs": [],
   "source": [
    "%load_ext rpy2.ipython"
   ]
  },
  {
   "cell_type": "code",
   "execution_count": 1,
   "metadata": {},
   "outputs": [
    {
     "name": "stdout",
     "output_type": "stream",
     "text": [
      "Requirement already satisfied: rpy2 in c:\\users\\andriana\\appdata\\roaming\\python\\python38\\site-packages (3.5.10)Note: you may need to restart the kernel to use updated packages.\n",
      "Requirement already satisfied: packaging; platform_system == \"Windows\" in c:\\programdata\\anaconda3\\lib\\site-packages (from rpy2) (21.3)\n",
      "Requirement already satisfied: cffi>=1.10.0 in c:\\programdata\\anaconda3\\lib\\site-packages (from rpy2) (1.14.3)\n",
      "Requirement already satisfied: jinja2 in c:\\programdata\\anaconda3\\lib\\site-packages (from rpy2) (2.11.2)\n",
      "Requirement already satisfied: tzlocal in c:\\users\\andriana\\appdata\\roaming\\python\\python38\\site-packages (from rpy2) (4.3)\n",
      "Requirement already satisfied: pytz in c:\\programdata\\anaconda3\\lib\\site-packages (from rpy2) (2020.1)\n",
      "Requirement already satisfied: pyparsing!=3.0.5,>=2.0.2 in c:\\programdata\\anaconda3\\lib\\site-packages (from packaging; platform_system == \"Windows\"->rpy2) (2.4.7)\n",
      "Requirement already satisfied: pycparser in c:\\programdata\\anaconda3\\lib\\site-packages (from cffi>=1.10.0->rpy2) (2.20)\n",
      "Requirement already satisfied: MarkupSafe>=0.23 in c:\\programdata\\anaconda3\\lib\\site-packages (from jinja2->rpy2) (1.1.1)\n",
      "Requirement already satisfied: pytz-deprecation-shim in c:\\users\\andriana\\appdata\\roaming\\python\\python38\\site-packages (from tzlocal->rpy2) (0.1.0.post0)\n",
      "Requirement already satisfied: tzdata; platform_system == \"Windows\" in c:\\users\\andriana\\appdata\\roaming\\python\\python38\\site-packages (from tzlocal->rpy2) (2023.3)\n",
      "Requirement already satisfied: backports.zoneinfo; python_version < \"3.9\" in c:\\users\\andriana\\appdata\\roaming\\python\\python38\\site-packages (from tzlocal->rpy2) (0.2.1)\n",
      "\n"
     ]
    }
   ],
   "source": [
    "pip install --user rpy2"
   ]
  },
  {
   "cell_type": "code",
   "execution_count": 1,
   "metadata": {},
   "outputs": [
    {
     "ename": "SyntaxError",
     "evalue": "invalid syntax (<ipython-input-1-15ad86b54615>, line 1)",
     "output_type": "error",
     "traceback": [
      "\u001b[1;36m  File \u001b[1;32m\"<ipython-input-1-15ad86b54615>\"\u001b[1;36m, line \u001b[1;32m1\u001b[0m\n\u001b[1;33m    python -m rpy2.situation\u001b[0m\n\u001b[1;37m              ^\u001b[0m\n\u001b[1;31mSyntaxError\u001b[0m\u001b[1;31m:\u001b[0m invalid syntax\n"
     ]
    }
   ],
   "source": [
    "python -m rpy2.situation"
   ]
  },
  {
   "cell_type": "code",
   "execution_count": 12,
   "metadata": {
    "scrolled": false
   },
   "outputs": [
    {
     "name": "stdout",
     "output_type": "stream",
     "text": [
      "The Rand index is 0.6204\n"
     ]
    }
   ],
   "source": [
    "rand_index = adjusted_rand_score(labels_true = adata.obs['Labels'], labels_pred = predictions)\n",
    "print('The Rand index is', round(rand_index, 4))"
   ]
  },
  {
   "cell_type": "code",
   "execution_count": 17,
   "metadata": {},
   "outputs": [
    {
     "name": "stderr",
     "output_type": "stream",
     "text": [
      "UsageError: Cell magic `%%R` not found.\n"
     ]
    }
   ],
   "source": [
    "%%R -i predictions \n"
   ]
  },
  {
   "cell_type": "code",
   "execution_count": 13,
   "metadata": {
    "scrolled": false
   },
   "outputs": [
    {
     "data": {
      "text/html": [
       "<div>\n",
       "<style scoped>\n",
       "    .dataframe tbody tr th:only-of-type {\n",
       "        vertical-align: middle;\n",
       "    }\n",
       "\n",
       "    .dataframe tbody tr th {\n",
       "        vertical-align: top;\n",
       "    }\n",
       "\n",
       "    .dataframe thead th {\n",
       "        text-align: right;\n",
       "    }\n",
       "</style>\n",
       "<table border=\"1\" class=\"dataframe\">\n",
       "  <thead>\n",
       "    <tr style=\"text-align: right;\">\n",
       "      <th></th>\n",
       "      <th>RNAMix1Basic_noDR</th>\n",
       "    </tr>\n",
       "  </thead>\n",
       "  <tbody>\n",
       "    <tr>\n",
       "      <th>cell_1</th>\n",
       "      <td>2</td>\n",
       "    </tr>\n",
       "    <tr>\n",
       "      <th>cell_2</th>\n",
       "      <td>3</td>\n",
       "    </tr>\n",
       "    <tr>\n",
       "      <th>cell_3</th>\n",
       "      <td>1</td>\n",
       "    </tr>\n",
       "    <tr>\n",
       "      <th>cell_4</th>\n",
       "      <td>3</td>\n",
       "    </tr>\n",
       "    <tr>\n",
       "      <th>cell_5</th>\n",
       "      <td>3</td>\n",
       "    </tr>\n",
       "    <tr>\n",
       "      <th>...</th>\n",
       "      <td>...</td>\n",
       "    </tr>\n",
       "    <tr>\n",
       "      <th>cell_292</th>\n",
       "      <td>4</td>\n",
       "    </tr>\n",
       "    <tr>\n",
       "      <th>cell_293</th>\n",
       "      <td>4</td>\n",
       "    </tr>\n",
       "    <tr>\n",
       "      <th>cell_294</th>\n",
       "      <td>4</td>\n",
       "    </tr>\n",
       "    <tr>\n",
       "      <th>cell_295</th>\n",
       "      <td>4</td>\n",
       "    </tr>\n",
       "    <tr>\n",
       "      <th>cell_296</th>\n",
       "      <td>4</td>\n",
       "    </tr>\n",
       "  </tbody>\n",
       "</table>\n",
       "<p>296 rows × 1 columns</p>\n",
       "</div>"
      ],
      "text/plain": [
       "         RNAMix1Basic_noDR\n",
       "cell_1                   2\n",
       "cell_2                   3\n",
       "cell_3                   1\n",
       "cell_4                   3\n",
       "cell_5                   3\n",
       "...                    ...\n",
       "cell_292                 4\n",
       "cell_293                 4\n",
       "cell_294                 4\n",
       "cell_295                 4\n",
       "cell_296                 4\n",
       "\n",
       "[296 rows x 1 columns]"
      ]
     },
     "execution_count": 13,
     "metadata": {},
     "output_type": "execute_result"
    }
   ],
   "source": [
    "df = pd.DataFrame(predictions)\n",
    "df.columns=[mydata]\n",
    "df"
   ]
  },
  {
   "cell_type": "code",
   "execution_count": 27,
   "metadata": {
    "scrolled": true
   },
   "outputs": [
    {
     "data": {
      "text/plain": [
       "'SCANPY_CellMixSngSCT_noDR_noPCs_for_nn_RESULTS.csv'"
      ]
     },
     "execution_count": 27,
     "metadata": {},
     "output_type": "execute_result"
    }
   ],
   "source": [
    "\"SCANPY_\"+ mydata+\"_40PCs_for_nn_RESULTS.csv\""
   ]
  },
  {
   "cell_type": "code",
   "execution_count": 28,
   "metadata": {
    "scrolled": true
   },
   "outputs": [],
   "source": [
    "df.to_csv(\"SCANPY_\"+ mydata+\"_40PCs_for_nn_RESULTS.csv\")"
   ]
  },
  {
   "cell_type": "code",
   "execution_count": null,
   "metadata": {},
   "outputs": [],
   "source": []
  }
 ],
 "metadata": {
  "kernelspec": {
   "display_name": "Python 3",
   "language": "python",
   "name": "python3"
  },
  "language_info": {
   "codemirror_mode": {
    "name": "ipython",
    "version": 3
   },
   "file_extension": ".py",
   "mimetype": "text/x-python",
   "name": "python",
   "nbconvert_exporter": "python",
   "pygments_lexer": "ipython3",
   "version": "3.8.5"
  }
 },
 "nbformat": 4,
 "nbformat_minor": 4
}
