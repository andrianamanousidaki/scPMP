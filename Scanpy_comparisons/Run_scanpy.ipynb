{
 "cells": [
  {
   "cell_type": "code",
   "execution_count": null,
   "metadata": {},
   "outputs": [],
   "source": [
    "def Run_scanpy(adata,res,normalization=True, do_PCA=True,n_pcs=40,human=True, high_dimensional_dataset=True):\n",
    "       # You need \n",
    "        import os\n",
    "        import timeit\n",
    "        import numpy as np\n",
    "        import pandas as pd\n",
    "        import scanpy as sc\n",
    "        from sklearn.metrics import adjusted_rand_score\n",
    "        from matplotlib import pyplot as plt\n",
    "        %matplotlib inline\n",
    "        \n",
    "        s1 = timeit.default_timer()\n",
    "        \n",
    "        if normalization:\n",
    "\n",
    "            if human:\n",
    "                adata.var['mt'] = adata.var_names.str.startswith('MT-')  # annotate the group of mitochondrial genes as 'mt'\n",
    "            else:    \n",
    "                adata.var['mt'] = adata.var_names.str.startswith('mt-')  # annotate the group of mitochondrial genes as 'mt'\n",
    "\n",
    "            sc.pp.calculate_qc_metrics(adata, qc_vars=['mt'], percent_top=None, log1p=False, inplace=True)\n",
    "            sc.pp.normalize_total(adata, target_sum=1e4)\n",
    "            sc.pp.log1p(adata)\n",
    "            \n",
    "            if high_dimensional_dataset:\n",
    "                sc.pp.highly_variable_genes(adata, min_mean=0.0125, max_mean=3, min_disp=0.5)\n",
    "                adata.raw = adata\n",
    "                adata = adata[:, adata.var.highly_variable]\n",
    "                sc.pp.regress_out(adata, ['total_counts', 'pct_counts_mt'])\n",
    "            \n",
    "            sc.pp.scale(adata,max_value=10) # tutorial uses max_value=10\n",
    "\n",
    "        if do_PCA:\n",
    "            sc.pp.pca(adata)\n",
    "            \n",
    "        s2 = timeit.default_timer()\n",
    "        \n",
    "        sc.pp.neighbors(adata, n_pcs=n_pcs) \n",
    "        sc.tl.umap(adata)\n",
    "        sc.tl.leiden(adata,resolution=res)\n",
    "        \n",
    "        end= timeit.default_timer()\n",
    "        \n",
    "        complete_rt = end-s1\n",
    "        clustering_rt = end-s2\n",
    "        \n",
    "        output=[complete_rt,clustering_rt, adata]\n",
    "        \n",
    "        return output\n"
   ]
  }
 ],
 "metadata": {
  "kernelspec": {
   "display_name": "Python 3",
   "language": "python",
   "name": "python3"
  },
  "language_info": {
   "codemirror_mode": {
    "name": "ipython",
    "version": 3
   },
   "file_extension": ".py",
   "mimetype": "text/x-python",
   "name": "python",
   "nbconvert_exporter": "python",
   "pygments_lexer": "ipython3",
   "version": "3.8.5"
  }
 },
 "nbformat": 4,
 "nbformat_minor": 4
}
